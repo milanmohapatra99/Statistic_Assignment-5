{
 "cells": [
  {
   "cell_type": "markdown",
   "id": "b98abc1a",
   "metadata": {},
   "source": [
    "# Q1. What is Estimation Statistics?Explain point estimate and interval estimate."
   ]
  },
  {
   "cell_type": "markdown",
   "id": "a110a4db",
   "metadata": {},
   "source": [
    "Ans: Estimation: Estimation is the process by which the numerical value of unknown population values are inferred from incomplete data, such as a sample.\n",
    "\n",
    "If a single figure is calculated for each unknown parameter, the process is called point estimation. If an interval is calculated within which the parameter is likely to occur, in some sense, the process is called interval estimation.\n",
    "\n",
    "Point Estimates:A point estimate is a sample statistic calculated using the sample data to estimate the most likely value of the corresponding unknown population parameter. In other words, we derive the point estimate from a single value in the sample, and we use it to estimate the population value.\n",
    "\n",
    "For instance, if we use a value of x̅ to estimate the mean µ of a population.\n",
    "\n",
    "A point estimate is a single value estimate of a parameter. For instance, a sample mean is a point estimate of a population mean.\n",
    "\n",
    "Interval Estimates:A confidence interval estimate is a range of values constructed from sample data so that the population parameter is likely to occur within the range at a specified probability. Accordingly, the specified probability is the level of confidence.\n",
    "\n",
    "Broader and probably more accurate than a point estimate.\n",
    "\n",
    "Used with inferential statistics to develop a confidence interval – where we believe with a certain degree of confidence that the population parameter lies.\n",
    "\n",
    "Any parameter estimate that is based on a sample statistic has some amount of sampling error.\n",
    "\n",
    "An interval estimate gives you a range of values where the parameter is expected to lie. A confidence interval is the most common type of interval estimate.\n",
    "\n",
    "In statistics, interval estimation is the use of sample data to calculate an interval of possible values of an unknown population parameter.\n"
   ]
  },
  {
   "cell_type": "markdown",
   "id": "58bd504b",
   "metadata": {},
   "source": [
    "# Q2. Write a Python function to estimate the population mean using a sample mean and standard deviation."
   ]
  },
  {
   "cell_type": "markdown",
   "id": "7e430348",
   "metadata": {},
   "source": [
    "Estimating Population Mean:\n",
    "    \n",
    "A statistic from a sample is used to estimate a parameter of the population.The most likely value for a parameter is the point estimate.\n",
    "\n",
    "The point estimate is the sample mean ( x ¯).\n",
    "\n",
    "\n",
    "Additionally, we can calculate a lower bound and an upper bound for the estimated parameter.\n",
    "\n",
    "The margin of error is the difference between the lower and upper bounds from the point estimate.\n",
    "\n",
    "Together, the lower and upper bounds define a confidence interval.\n",
    "\n",
    "The formula for calculating the sample mean is the sum of all the values Σxi divided by the sample size (n):\n",
    "\n",
    "x̄ =∑xi /n\n"
   ]
  },
  {
   "cell_type": "code",
   "execution_count": 1,
   "id": "7b1b553e",
   "metadata": {},
   "outputs": [],
   "source": [
    "def population_mean(sample_mean, sample_std, sample_size):\n",
    "    \n",
    "    standard_error = sample_std / (sample_size ** 0.5)\n",
    "    z_score = 1.96 \n",
    "    margin_of_error = z_score * standard_error\n",
    "    lower_bound = sample_mean - margin_of_error\n",
    "    upper_bound = sample_mean + margin_of_error\n",
    "    return (lower_bound, upper_bound)"
   ]
  },
  {
   "cell_type": "markdown",
   "id": "1dfd3fa7",
   "metadata": {},
   "source": [
    "# Q3. What is Hypothesis testing?Why is it used?State the importance of Hypothesis testing."
   ]
  },
  {
   "cell_type": "markdown",
   "id": "46f3aa4d",
   "metadata": {},
   "source": [
    "Ans: hypothesis testing:\n",
    "        \n",
    "Hypothesis testing is an act in statistics in which an analyst tests an assumption concerning a population parameter. The methodology employed by the analyst basically depends on the nature of the data used and the reason for the analysis.\n",
    "\n",
    "Hypothesis testing is used to evaluate the plausibility of a hypothesis by using sample data. Such data may come from a more significant population or a data-generating process.\n",
    "\n",
    "Hypothesis testing is the process used to evaluate the strength of evidence from the sample and provides a framework for making determinations related to the population.\n",
    "\n",
    "\n",
    "Hypothesis Testing used: \n",
    "According to the San Jose State University Statistics Department, hypothesis testing is essential in statistics. It is how you determine if something happened, or if particular treatments have positive effects, or if groups differ or if one variable predicts another.\n",
    "\n",
    "In short, you want to prove if your data is statistically meaningful and unlikely to have occurred by chance only. In essence, then, a hypothesis test is known as a test of significance.\n",
    "\n",
    "Importance of Hypothesis Testing :\n",
    "    \n",
    "The most significant benefit of hypothesis testing is it allows you to evaluate the strength of your claim or assumption before implementing it in your data set. Also, hypothesis testing is the only valid method to prove that something “is or is not”. Other benefits include: \n",
    "\n",
    "1- Hypothesis testing provides a reliable framework for making any data decisions for your population of interest. \n",
    "\n",
    "2- It helps the researcher to successfully extrapolate data from the sample to the larger population. \n",
    "\n",
    "3- Hypothesis testing allows the researcher to determine whether the data from the sample is statistically significant. \n",
    "\n",
    "4- Hypothesis testing is one of the most important processes for measuring the validity and reliability of outcomes in any systematic investigation. \n",
    "\n",
    "5- It helps to provide links to the underlying theory and specific research questions."
   ]
  },
  {
   "cell_type": "markdown",
   "id": "a531282f",
   "metadata": {},
   "source": [
    "# Q4. Create a hypothesis that states wheather the average weight of male college students is greater than the average weight of female college students."
   ]
  },
  {
   "cell_type": "markdown",
   "id": "8870fbbf",
   "metadata": {},
   "source": [
    "Ans:  The average weight of male college students is greater than the average weight of female college students.\n",
    "\n",
    "Null Hypothesis (H0): The average weight of male college students is not greater than the average weight of female college students. \n",
    "\n",
    "Alternative Hypothesis (H1): The average weight of male college students is greater than the average weight of female college students.\n",
    "\n",
    "We can test this hypothesis by collecting a random sample of male and female college students and calculating the mean weight for each group. We can then use a statistical test, such as a t-test, to determine whether the difference in mean weight between the two groups is statistically significant. If the p-value is less than the significance level (e.g. 0.05), \n",
    "we can reject the null hypothesis and conclude that the average weight of male college students is indeed greater than the average weight of female college students. If the p-value is greater than the significance level, we fail to reject the null hypothesis and conclude that there is not enough evidence to support the claim that the average weight of male college students is greater than the average weight of female college students."
   ]
  },
  {
   "cell_type": "markdown",
   "id": "817d9c38",
   "metadata": {},
   "source": [
    "# Q5. Write a Python script to conduct a hypothesis test on the difference between two population means, given a sample from each population."
   ]
  },
  {
   "cell_type": "code",
   "execution_count": 2,
   "id": "284f2db6",
   "metadata": {},
   "outputs": [
    {
     "name": "stdout",
     "output_type": "stream",
     "text": [
      "Sample 1 Mean: 10.03\n",
      "Sample 2 Mean: 12.08\n",
      "Pooled Standard Deviation: 2.28\n",
      "T-Statistic: -4.51\n",
      "P-Value: 0.0000\n"
     ]
    }
   ],
   "source": [
    "import numpy as np\n",
    "from scipy.stats import ttest_ind\n",
    "\n",
    "# Generate two random samples from two normal distributions\n",
    "np.random.seed(123)\n",
    "sample1 = np.random.normal(loc=10, scale=2, size=50)\n",
    "sample2 = np.random.normal(loc=12, scale=2, size=50)\n",
    "\n",
    "# Calculate the sample means and standard deviations\n",
    "mean1, mean2 = np.mean(sample1), np.mean(sample2)\n",
    "std1, std2 = np.std(sample1, ddof=1), np.std(sample2, ddof=1)\n",
    "\n",
    "# Calculate the pooled standard deviation\n",
    "pooled_std = np.sqrt(((len(sample1)-1)*(std1**2) + (len(sample2)-1)*(std2**2)) / (len(sample1) + len(sample2) - 2))\n",
    "\n",
    "# Calculate the t-statistic and p-value\n",
    "t_stat, p_val = ttest_ind(sample1, sample2)\n",
    "\n",
    "# Print the results\n",
    "print(\"Sample 1 Mean: {:.2f}\".format(mean1))\n",
    "print(\"Sample 2 Mean: {:.2f}\".format(mean2))\n",
    "print(\"Pooled Standard Deviation: {:.2f}\".format(pooled_std))\n",
    "print(\"T-Statistic: {:.2f}\".format(t_stat))\n",
    "print(\"P-Value: {:.4f}\".format(p_val))"
   ]
  },
  {
   "cell_type": "markdown",
   "id": "2801b3d6",
   "metadata": {},
   "source": [
    "# Q6. What is a null and alternative hypothesis?Give some examples."
   ]
  },
  {
   "cell_type": "markdown",
   "id": "58943aae",
   "metadata": {},
   "source": [
    "Ans: null hypothesis:\n",
    "The null hypothesis is the claim that there’s no effect in the population.\n",
    "\n",
    "If the sample provides enough evidence against the claim that there’s no effect in the population (p ≤ α), then we can reject the null hypothesis. Otherwise, we fail to reject the null hypothesis.\n",
    "\n",
    "Example: Population on trial\n",
    "Think of a statistical test as being like a legal trial. The population is accused of the “crime” of having an effect, and the sample is the criminal evidence. In the United States and many other countries, a person accused of a crime is assumed to be innocent until proven guilty. Similarly, we start by assuming the population is “innocent” of having an effect.\n",
    "In other words, the null hypothesis (i.e., that there is no effect) is assumed to be true until the sample provides enough evidence to reject it.\n",
    "\n",
    "alternative hypothesis:\n",
    "The alternative hypothesis (Ha) is the other answer to your research question. It claims that there’s an effect in the population.\n",
    "\n",
    "Often, your alternative hypothesis is the same as your research hypothesis. In other words, it’s the claim that you expect or hope will be true.\n",
    "\n",
    "The alternative hypothesis is the complement to the null hypothesis. Null and alternative hypotheses are exhaustive, meaning that together they cover every possible outcome. They are also mutually exclusive, meaning that only one can be true at a time.\n",
    "\n",
    "The following are some examples of null and alternate hypothesis:\n",
    "\n",
    "1. Investing in stock market: Buying stocks during down market will earn higher returns\n",
    "\n",
    "    Null hypothesis: It is not true that buying stocks during down market will return higher return\n",
    "\n",
    "    Alternate hypothesis: Buying stocks during down market earns higher returns.\n",
    "\n",
    "    \n",
    "2. New heart medicine: New medicine reduces the risk of heart attack by 60%\n",
    "\n",
    "    Null hypothesis: It is not true that new medicine reduces the risk of heart attack by 60%\n",
    "\n",
    "        Alternate Hypothesis: New medicine reduces the risk of heart attack by at least 60%.\n",
    "\n",
    "Conclusion:\n",
    "    \n",
    "Null and alternative hypotheses are used in statistical hypothesis testing. The null hypothesis of a test always predicts no effect or no relationship between variables, while the alternative hypothesis states your research prediction of an effect or relationship."
   ]
  },
  {
   "cell_type": "markdown",
   "id": "be8ca268",
   "metadata": {},
   "source": [
    "# Q7. Write down the steps involved in hypothesis testing."
   ]
  },
  {
   "cell_type": "markdown",
   "id": "3d51262a",
   "metadata": {},
   "source": [
    "Ans: There are 5 main steps in hypothesis testing:\n",
    "\n",
    "1. State your research hypothesis as a null hypothesis(Ho) and alternate hypothesis (H1) and (H0 or H1).\n",
    "\n",
    "2. Collect data in a way designed to test the hypothesis.\n",
    "\n",
    "3. Perform an appropriate statistical test.\n",
    "\n",
    "4. Decide whether to reject or fail to reject your null hypothesis.\n",
    "\n",
    "5. Present the findings in your results and discussion section."
   ]
  },
  {
   "cell_type": "markdown",
   "id": "0e9a7ed6",
   "metadata": {},
   "source": [
    "# Q8. Define p-value and explain its significance in hypothesis testing."
   ]
  },
  {
   "cell_type": "markdown",
   "id": "2c1ec83b",
   "metadata": {},
   "source": [
    "Ans: p-value: The p-value is a number, calculated from a statistical test, that describes how likely you are to have found a particular set of observation if the null hypothesis were true. p values are used in hypothesis testing to help decide wheather to reject the null hypothesis.\n",
    "    \n",
    " \n",
    "Significance in Hypothesis testing: Statistical hypothesis testing is used to determine whether the data is statistically significant. In other words, whether or not the phenomenon can be explained as a byproduct of chance alone. Statistical significance is a determination about the null hypothesis, which posits that the results are due to chance alone.\n",
    "    \n",
    "If the p-value is 0.05 or lower, the result is trumpeted as significant, but if it is higher than 0.05, the result is non-significant and tends to be passed over in silence."
   ]
  },
  {
   "cell_type": "markdown",
   "id": "2a1b8a50",
   "metadata": {},
   "source": [
    "# Q9. Generate a Student's t-distribution plot using Python's matplotlib library,with the degree of freedom parameter set to 10."
   ]
  },
  {
   "cell_type": "code",
   "execution_count": 3,
   "id": "babb9ea7",
   "metadata": {},
   "outputs": [
    {
     "data": {
      "image/png": "[encoded data removed]",
      "text/plain": [
       "<Figure size 432x288 with 1 Axes>"
      ]
     },
     "metadata": {
      "needs_background": "light"
     },
     "output_type": "display_data"
    }
   ],
   "source": [
    "import numpy as np\n",
    "import matplotlib.pyplot as plt\n",
    "from scipy.stats import t\n",
    "\n",
    "dof = 10  # degrees of freedom\n",
    "\n",
    "x = np.linspace(-5, 5, 500)\n",
    "y = t.pdf(x, dof)\n",
    "\n",
    "plt.plot(x, y)\n",
    "plt.title(\"Student's t-distribution with 10 degrees of freedom\")\n",
    "plt.xlabel('x')\n",
    "plt.ylabel('pdf(x)')\n",
    "plt.show()"
   ]
  },
  {
   "cell_type": "markdown",
   "id": "26c30bf0",
   "metadata": {},
   "source": [
    "# Q10. Write a Python Program to calculate the two-sample t-test for independent samples,given two random samples of equal size and a null hypothesis that the population means are equal."
   ]
  },
  {
   "cell_type": "code",
   "execution_count": 4,
   "id": "fc6a7ec3",
   "metadata": {},
   "outputs": [
    {
     "name": "stdout",
     "output_type": "stream",
     "text": [
      "t-statistic: -6.706602317971851\n",
      "p-value: 2.0365144704730256e-10\n"
     ]
    }
   ],
   "source": [
    "import numpy as np\n",
    "from scipy.stats import ttest_ind\n",
    "\n",
    "# Generate two random samples of equal size\n",
    "sample1 = np.random.normal(loc=10, scale=2, size=100)\n",
    "sample2 = np.random.normal(loc=12, scale=2, size=100)\n",
    "\n",
    "# Calculate the t-test\n",
    "t_stat, p_value = ttest_ind(sample1, sample2)\n",
    "\n",
    "# Print the results\n",
    "print(\"t-statistic:\", t_stat)\n",
    "print(\"p-value:\", p_value)"
   ]
  },
  {
   "cell_type": "markdown",
   "id": "ed1ecd32",
   "metadata": {},
   "source": [
    "# Q11. What is Student's t-distribution?When to use the t-Distribution."
   ]
  },
  {
   "cell_type": "markdown",
   "id": "e9c94d0b",
   "metadata": {},
   "source": [
    "Ans: The t-distribution, also known as the Student’s t-distribution, is a type of probability distribution that is similar to the normal distribution with its bell shape but has heavier tails. It is used for estimating population parameters for small sample sizes or unknown variances. T-distributions have a greater chance for extreme values than normal distributions, and as a result have fatter tails.\n",
    "    \n",
    "The t-distribution is used when data are approximately normally distributed, which means the data follow a bell shape but the population variance is unknown. The variance in a t-distribution is estimated based on the degrees of freedom of the data set (total number of observations minus 1).\n",
    " \n",
    "The t-distribution should be used if the population sample size is small and the standard deviation is unknown. If not, then the normal distribution should be used."
   ]
  },
  {
   "cell_type": "markdown",
   "id": "4580b9da",
   "metadata": {},
   "source": [
    "# Q12. What is t-statistic?State the formula for t-statistic."
   ]
  },
  {
   "cell_type": "markdown",
   "id": "e22f5e28",
   "metadata": {},
   "source": [
    "Ans: t-statistic is the ratio of the departure of the estimated value of a parameter from its hypothesized value to its standard error. It is used in hypothesis testing via Student's t-test. The t-statistic is used in a t-test to determine whether to support or reject the null hypothesis.\n",
    "    \n",
    "A t-test is an inferential statistic used to determine if there is a statistically significant difference between the means of two variables.\n",
    "\n",
    "There are many types of t test :\n",
    "\n",
    "1.The one-sample t-test, used to compare the mean of a population with a theoretical value.\n",
    "\n",
    "2. The unpaired two sample t-test, used to compare the mean of two independent samples.\n",
    "\n",
    "3. The paired t-test, used to compare the means between two related groups of samples.\n",
    "\n",
    "T-Test Formula: \n",
    "    \n",
    "Calculating a t-test requires three fundamental data values including the difference between the mean values from each data set, the standard deviation of each group, and the number of data values.\n",
    "\n",
    "The t-test is any statistical hypothesis test in which the test statistic follows a Student’s t-distribution under the null hypothesis. It can be used to determine if two sets of data are significantly different from each other, and is most commonly applied when the test statistic would follow a normal distribution if the value of a scaling term in the test statistic were known.\n",
    "\n",
    "T-test uses means and standard deviations of two samples to make a comparison. The formula for T-test is given below:\n",
    "    \n",
    "    t = ( x̄ – μ) / (s / √n)\n",
    "    \n",
    " where\n",
    "\n",
    "x̄ = Observed Mean of the Sample\n",
    "μ = Theoretical Mean of the Population\n",
    "s = Standard Deviation of the Sample\n",
    "n = Sample Size"
   ]
  },
  {
   "cell_type": "markdown",
   "id": "65648e1c",
   "metadata": {},
   "source": [
    "# Q13. A coffee shop owner wants to estimate the average daily revenue for their shop.They take a random sample of 50 days and find the sample mean revenue to be $500 with a standard deviation of $50.Estimate the population mean revenue with a 95% confidence interval."
   ]
  },
  {
   "cell_type": "markdown",
   "id": "b10c7b2f",
   "metadata": {},
   "source": [
    "To estimate the population mean revenue with a 95% confidence interval, we can use the following formula:\n",
    "\n",
    "Confidence Interval = sample mean ± margin of error \n",
    "where,\n",
    "\n",
    "sample mean = $500 \n",
    "\n",
    "margin of error = t-value * standard error \n",
    "\n",
    "t-value = the critical value from the t-distribution table for the given confidence level and\n",
    "\n",
    "degrees of freedom (df = n-1) standard error = standard deviation / sqrt(n)\n",
    "\n",
    "We can assume a 95% confidence level and the degrees of freedom (df) is 49 since the sample size is 50.\n",
    "\n",
    "Using the t-distribution table, we find the t-value for 95% confidence level and df = 49 to be 2.009.\n",
    "\n",
    "Now, we can calculate the margin of error :\n",
    "\n",
    "standard error = 50 / sqrt(50) = 7.071 \n",
    "\n",
    "margin of error = 2.009 * 7.071 = 14.196\n",
    "\n",
    "Therefore, the 95% confidence interval for the population mean revenue is: 500 ± 14.196 = (485.804, 514.196)\n",
    "\n",
    "So, we can say with 95% confidence that the true population mean revenue lies between $485.804 to $514.196."
   ]
  },
  {
   "cell_type": "markdown",
   "id": "188381a7",
   "metadata": {},
   "source": [
    "# Q14. A researcher hypothesizes that a new drug will decrease blood pressure by 10mmHg. They conduct a clinical trail with 100 patients and find that the sample mean decrease in blood pressure is 8mmHg with a standard deviation of 3 mmHg.Test the hypothesis with a significance level of 0.05."
   ]
  },
  {
   "cell_type": "markdown",
   "id": "5b8cc293",
   "metadata": {},
   "source": [
    "To test the hypothesis, we can use a one-sample t-test with the null hypothesis stating that the true mean decrease in blood pressure is equal to 10 mmHg, and the alternative hypothesis stating that it is less than 10 mmHg. The test statistic is calculated as follows:\n",
    "\n",
    "t = (sample mean - hypothesized mean) / (standard error) \n",
    "\n",
    "where the standard error is calculated as the sample standard deviation divided by the square root of the sample size.\n",
    "\n",
    "So, in this case:\n",
    "\n",
    "hypothesized mean = 10 mmHg \n",
    "\n",
    "sample mean = 8 mmHg \n",
    "\n",
    "sample standard deviation = 3 mmHg \n",
    "\n",
    "sample size = 100\n",
    "\n",
    "The standard error is therefore:\n",
    "\n",
    "standard error = 3 / sqrt(100) = 0.3\n",
    "\n",
    "And the test statistic result is:\n",
    "\n",
    "t = (8 - 10) / 0.3 = -6.67\n",
    "\n",
    "We can then compare this to the critical value from a t-distribution with 99 degrees of freedom (since we have 100 observations and are estimating one parameter), and a significance level of 0.05. \n",
    "\n",
    "Using a one-tailed test, the critical value is -1.66.\n",
    "\n",
    "Since our test statistic is less than the critical value, we can reject the null hypothesis and conclude that there is evidence to support the claim that the new drug decreases blood pressure by less than 10 mmHg."
   ]
  },
  {
   "cell_type": "markdown",
   "id": "5b20ea22",
   "metadata": {},
   "source": [
    "# Q15. An electronics company produces a certain type of product with a mean weight of 5 pounds and a standard deviation of 0.5 pounds. A random sample of 25 products is taken, and the sample mean weight is found to be 4.8 pounds. Test the hypothesis that the true mean weight of the products is less than 5 pounds with a significance level of 0.01."
   ]
  },
  {
   "cell_type": "markdown",
   "id": "277b659d",
   "metadata": {},
   "source": [
    "Mean weight of the product(μ) = 5 pounds\n",
    "\n",
    "Standard deviation(σ) = 0.5 \n",
    "\n",
    "pounds Sample size (n) = 25 \n",
    "\n",
    "Sample mean weight = 4.8 pounds \n",
    "\n",
    "Significance level (alpha) = 0.01 \n",
    "\n",
    "We need to test the hypothesis that the true mean weight of the products is less than 5 pounds.\n",
    "\n",
    "Null hypothesis(H0): The true mean weight of the products is greater than or equal to 5 pounds. \n",
    "    \n",
    "Alternate hypothesis(H1): The true mean weight of the products is less than 5 pounds.\n",
    "\n",
    "We can use a one-tailed t-test to test this hypothesis as follows:\n",
    "\n",
    "t = (sample_mean - population_mean) / (standard_error / sqrt(n))\n",
    "\n",
    "where standard_error = standard_deviation / sqrt(n)\n",
    "\n",
    "The critical t-value is obtained from the t-distribution table with n-1 degrees of freedom and alpha level of 0.01.\n",
    "\n",
    "Using the above formulas:\n",
    "\n",
    "standard_error = 0.5 / sqrt(25) = 0.1\n",
    "\n",
    "t = (4.8 - 5) / (0.1) = -2\n",
    "\n",
    "The critical t-value with 24 degrees of freedom and alpha level of 0.01 is -2.492.\n",
    "\n",
    "Since the calculated t-value (-2) is less than the critical t-value (-2.492), \n",
    "\n",
    "we reject the null hypothesis and conclude that the true mean weight of the products is less than 5 pounds at a significance level of 0.01."
   ]
  },
  {
   "cell_type": "markdown",
   "id": "e223fde6",
   "metadata": {},
   "source": [
    "# Q16. Two groups of student are given diferent study materials to prepare for a test.The first group(n1 = 30) has a mean score of 80 with a standard deviation of 10, and the second group(n2 = 40) has a mean score of 75 with a standard deviation of 8. Test the hypothesis that the population means for the two groups are equal with a significance level of 0.01."
   ]
  },
  {
   "cell_type": "code",
   "execution_count": null,
   "id": "3895e511",
   "metadata": {},
   "outputs": [],
   "source": [
    "To test the hypothesis that the population means for the two groups are equal, we can use a two-sample t-test for independent samples. The null and alternative hypotheses are:\n",
    "\n",
    "Null hypothesis: μ1 = μ2 Alternative hypothesis: μ1 ≠ μ2\n",
    "\n",
    "We will use a significance level of 0.01.\n",
    "\n",
    "First, we can calculate the pooled standard deviation:\n",
    "\n",
    "Sp = sqrt(((n1 - 1) * s1^2 + (n2 - 1) * s2^2) / (n1 + n2 - 2))\n",
    "\n",
    "where s1 and s2 are the sample standard deviations.\n",
    "\n",
    "Then, we can calculate the t-statistic:\n",
    "\n",
    "t = (x1 - x2) / (Sp * sqrt(1/n1 + 1/n2))\n",
    "\n",
    "where x1 and x2 are the sample means.\n",
    "\n",
    "Using a t-table or a t-distribution calculator with (n1 + n2 - 2) degrees of freedom and a significance level of 0.01, we find the critical values to be -2.583 and 2.583.\n",
    "\n",
    "If the calculated t-statistic falls outside this range, we reject the null hypothesis and conclude that the population means are different. Otherwise, we fail to reject the null hypothesis.\n",
    "\n",
    "Plugging in the values, we get:\n",
    "\n",
    "Sp = sqrt(((30 - 1) * 10^2 + (40 - 1) * 8^2) / (30 + 40 - 2)) = 8.671\n",
    "\n",
    "t = (80 - 75) / (8.671 * sqrt(1/30 + 1/40)) = 2.67\n",
    "\n",
    "Since 2.67 > 2.583, we reject the null hypothesis and conclude that the population means are different."
   ]
  },
  {
   "cell_type": "markdown",
   "id": "a2e5ccd7",
   "metadata": {},
   "source": [
    "# Q17. A marketing company wants to estimate the average number of ads watched by viewers during a TV program. They take a random sample of 50 viewers and find that the sample mean is 4 with a standard deviation of 1.5. Estimate the population mean with a 99% confidence interval."
   ]
  },
  {
   "cell_type": "markdown",
   "id": "51a93e68",
   "metadata": {},
   "source": [
    "To Estimate the population mean with a 99% confidence interval, we can use the following formula:\n",
    "\n",
    "Confidence interval = sample mean ± margin of error\n",
    "\n",
    "Where margin of error = critical value * standard error\n",
    "\n",
    "The critical value can be obtained from the t-distribution table with n-1 degrees of freedom and a 99% confidence level.\n",
    "\n",
    "For a sample size of 50 and a 99% confidence level, the critical value is 2.678.\n",
    "\n",
    "The standard error can be calculated as the standard deviation of the sample divided by the square root of the sample size.\n",
    "\n",
    "The standard error is:\n",
    "\n",
    "standard error = 1.5 / sqrt(50) = 0.212\n",
    "\n",
    "Therefore, the margin of error is:\n",
    "\n",
    "margin of error = 2.678 * 0.212 = 0.568\n",
    "\n",
    "The confidence interval is:\n",
    "\n",
    "Confidence interval = 4 ± 0.568 = [3.432, 4.568]\n",
    "\n",
    "So, we can say with 99% confidence that the population mean of the number of ads watched by viewers during a TV program is between 3.432 and 4.568."
   ]
  }
 ],
 "metadata": {
  "kernelspec": {
   "display_name": "Python 3 (ipykernel)",
   "language": "python",
   "name": "python3"
  },
  "language_info": {
   "codemirror_mode": {
    "name": "ipython",
    "version": 3
   },
   "file_extension": ".py",
   "mimetype": "text/x-python",
   "name": "python",
   "nbconvert_exporter": "python",
   "pygments_lexer": "ipython3",
   "version": "3.9.7"
  }
 },
 "nbformat": 4,
 "nbformat_minor": 5
}
